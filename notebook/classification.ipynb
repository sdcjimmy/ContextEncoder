{
 "cells": [
  {
   "cell_type": "code",
   "execution_count": 1,
   "metadata": {},
   "outputs": [],
   "source": [
    "import sys\n",
    "import os\n",
    "import glob\n",
    "import pandas as pd\n",
    "import argparse\n",
    "import configparser\n",
    "import numpy as np\n",
    "import torch\n",
    "import matplotlib\n",
    "matplotlib.use(\"agg\")\n",
    "import matplotlib.pyplot as plt\n",
    "from collections import OrderedDict\n",
    "sys.path.append('../')\n",
    "from model import *\n",
    "from lib.preprocessing import single_transforms\n",
    "from lib.dataloading import *\n",
    "from lib.loss_functions import *\n",
    "from lib.evaluation import *\n",
    "from lib.utilities.image_sampler import ImageSampler\n",
    "from torchvision import transforms\n",
    "import torchvision.models as models\n",
    "from torch.nn.functional import interpolate\n",
    "from torch.utils.tensorboard import SummaryWriter\n",
    "from torchvision.utils import make_grid\n",
    "from torch import optim, nn"
   ]
  },
  {
   "cell_type": "code",
   "execution_count": 2,
   "metadata": {},
   "outputs": [],
   "source": [
    "transform =  single_transforms.get_transformer_norm()\n",
    "dataset = SSIDataset(img_file= '/media/jimmy/224CCF8B4CCF57E5/Data/SSI/ssi.csv', rel_path='/media/jimmy/224CCF8B4CCF57E5/Data/SSI/', transform= transform['val'], inpaint=False, rand_shift = True, rand_init = 'uniform', classification=True)"
   ]
  },
  {
   "cell_type": "code",
   "execution_count": 3,
   "metadata": {},
   "outputs": [],
   "source": [
    "img, label = dataset[123]"
   ]
  },
  {
   "cell_type": "code",
   "execution_count": null,
   "metadata": {},
   "outputs": [],
   "source": []
  }
 ],
 "metadata": {
  "kernelspec": {
   "display_name": "Python 3",
   "language": "python",
   "name": "python3"
  },
  "language_info": {
   "codemirror_mode": {
    "name": "ipython",
    "version": 3
   },
   "file_extension": ".py",
   "mimetype": "text/x-python",
   "name": "python",
   "nbconvert_exporter": "python",
   "pygments_lexer": "ipython3",
   "version": "3.7.5"
  }
 },
 "nbformat": 4,
 "nbformat_minor": 2
}
