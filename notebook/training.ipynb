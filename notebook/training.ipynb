{
 "cells": [
  {
   "cell_type": "code",
   "execution_count": 1,
   "metadata": {},
   "outputs": [],
   "source": [
    "import sys\n",
    "sys.path.append('../')\n",
    "import os\n",
    "import glob\n",
    "import pandas as pd\n",
    "import torch\n",
    "import matplotlib.pyplot as plt\n",
    "import matplotlib\n",
    "#matplotlib.use('agg' )\n",
    "#%matplotlib inline\n",
    "from torch.utils.data import Dataset, DataLoader\n",
    "\n",
    "from lib.preprocessing import *\n",
    "from lib.dataloading import *\n",
    "from lib.loss_functions import *\n",
    "from lib.evaluation import *\n",
    "from torchvision import transforms\n",
    "from torchvision.transforms import CenterCrop\n",
    "import torchvision.models as models\n",
    "from torch import optim, nn\n",
    "from skimage.color import rgb2gray"
   ]
  },
  {
   "cell_type": "code",
   "execution_count": 2,
   "metadata": {},
   "outputs": [],
   "source": [
    "transforms = get_transformer_norm()\n",
    "dataset = SSIDataset(img_file= '/home/jimmy/Data/SSI/ssi.csv', transform=transforms['train'], output_resize = True)"
   ]
  },
  {
   "cell_type": "code",
   "execution_count": 11,
   "metadata": {},
   "outputs": [],
   "source": [
    "gen_loss = GenLoss(loss_type = 'hinge')\n",
    "dis_loss = DisLoss(loss_type = 'hinge')"
   ]
  },
  {
   "cell_type": "code",
   "execution_count": 9,
   "metadata": {},
   "outputs": [
    {
     "name": "stdout",
     "output_type": "stream",
     "text": [
      "Starting epoch 1/100.\n"
     ]
    }
   ],
   "source": [
    "batch_size = 4\n",
    "dataloader = torch.utils.data.DataLoader(dataset, batch_size= batch_size)\n",
    "dlabel = torch.FloatTensor(batch_size)\n",
    "\n",
    "generator = CENet()\n",
    "discriminator = LinearDiscriminator(n_input=3, n_classes=9)\n",
    "epochs = 100\n",
    "device = 'cuda:0'\n",
    "generator = generator.to(device)\n",
    "discriminator = discriminator.to(device)\n",
    "dlabel = dlabel.to(device)\n",
    "#criteriaBCE.to(device)\n",
    "\n",
    "for epoch in range(epochs):\n",
    "    print('Starting epoch {}/{}.'.format(epoch + 1, epochs))\n",
    "    generator.train()\n",
    "    discriminator.train()\n",
    "        \n",
    "    G_epoch_loss = 0         \n",
    "    D_epoch_loss = 0\n",
    "\n",
    "    for i, (imgs, centers, dcm_labels) in enumerate(dataloader):\n",
    "        imgs, centers, dcm_labels = imgs.to(device), centers.to(device), dcm_labels.to(device)   \n",
    "        \n",
    "        pred_centers = generator(imgs)\n",
    "        \n",
    "        dis_fake = discriminator(pred_centers, dcm_labels)        \n",
    "        # Generator Advasarial Loss                        \n",
    "        \n",
    "        lossAdv_Encoder = gen_loss(dis_fake)\n",
    "                \n",
    "        # Generator MSE Loss\n",
    "        #lossMSE_Encoder = criteriaMSE(pred_centers, centers)\n",
    "        \n",
    "        #lossG = 0.99 lossAdv_Encoder + 0.01 lossMSE_Encoder\n",
    "                                                                \n",
    "        #G_epoch_loss += lossG.item()\n",
    "        break\n",
    "    break"
   ]
  },
  {
   "cell_type": "code",
   "execution_count": 10,
   "metadata": {},
   "outputs": [
    {
     "data": {
      "text/plain": [
       "tensor(0.8788, device='cuda:0', grad_fn=<MeanBackward0>)"
      ]
     },
     "execution_count": 10,
     "metadata": {},
     "output_type": "execute_result"
    }
   ],
   "source": [
    "lossAdv_Encoder"
   ]
  },
  {
   "cell_type": "code",
   "execution_count": 6,
   "metadata": {},
   "outputs": [
    {
     "data": {
      "text/plain": [
       "tensor(-0.2378, device='cuda:0', grad_fn=<NegBackward>)"
      ]
     },
     "execution_count": 6,
     "metadata": {},
     "output_type": "execute_result"
    }
   ],
   "source": [
    "hinge_loss"
   ]
  },
  {
   "cell_type": "code",
   "execution_count": 7,
   "metadata": {},
   "outputs": [
    {
     "data": {
      "text/plain": [
       "tensor(2.0548, device='cuda:0', grad_fn=<BinaryCrossEntropyBackward>)"
      ]
     },
     "execution_count": 7,
     "metadata": {},
     "output_type": "execute_result"
    }
   ],
   "source": [
    "lossAdv_Encoder"
   ]
  },
  {
   "cell_type": "code",
   "execution_count": 18,
   "metadata": {},
   "outputs": [
    {
     "data": {
      "text/plain": [
       "tensor(1.0459, device='cuda:0', grad_fn=<NegBackward>)"
      ]
     },
     "execution_count": 18,
     "metadata": {},
     "output_type": "execute_result"
    }
   ],
   "source": [
    "-torch.mean(output)"
   ]
  },
  {
   "cell_type": "code",
   "execution_count": 9,
   "metadata": {},
   "outputs": [
    {
     "name": "stdout",
     "output_type": "stream",
     "text": [
      "x1 torch.Size([4, 1])\n",
      "tensor([[ 0.0335],\n",
      "        [-0.2584],\n",
      "        [ 0.0469],\n",
      "        [ 0.1653]], device='cuda:0', grad_fn=<AddmmBackward>)\n",
      "x2 torch.Size([4, 1])\n",
      "tensor([[ 0.1404],\n",
      "        [ 0.0909],\n",
      "        [-0.0769],\n",
      "        [ 0.1333]], device='cuda:0', grad_fn=<SumBackward1>)\n"
     ]
    }
   ],
   "source": [
    "discriminator = LinearDiscriminator(n_input=3, n_classes=9)\n",
    "discriminator.to(device)\n",
    "dis_out = discriminator(centers, dcm_labels)"
   ]
  },
  {
   "cell_type": "code",
   "execution_count": 11,
   "metadata": {},
   "outputs": [
    {
     "data": {
      "text/plain": [
       "tensor([[ 0.1739],\n",
       "        [-0.1675],\n",
       "        [-0.0300],\n",
       "        [ 0.2985]], device='cuda:0', grad_fn=<AddBackward0>)"
      ]
     },
     "execution_count": 11,
     "metadata": {},
     "output_type": "execute_result"
    }
   ],
   "source": [
    "dis_out"
   ]
  },
  {
   "cell_type": "code",
   "execution_count": null,
   "metadata": {},
   "outputs": [],
   "source": []
  }
 ],
 "metadata": {
  "kernelspec": {
   "display_name": "Python 3",
   "language": "python",
   "name": "python3"
  },
  "language_info": {
   "codemirror_mode": {
    "name": "ipython",
    "version": 3
   },
   "file_extension": ".py",
   "mimetype": "text/x-python",
   "name": "python",
   "nbconvert_exporter": "python",
   "pygments_lexer": "ipython3",
   "version": "3.7.5"
  }
 },
 "nbformat": 4,
 "nbformat_minor": 2
}
